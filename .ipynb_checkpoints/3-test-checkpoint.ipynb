{
 "cells": [
  {
   "cell_type": "code",
   "execution_count": null,
   "id": "26616706-c7bd-465d-bb7e-b71ca0c5825a",
   "metadata": {},
   "outputs": [],
   "source": [
    "import csv\n",
    "import matplotlib.pyplot as plt\n",
    "f = open('pop.csv','r',encoding='utf8')\n",
    "data = csv.reader(f) #데이터 읽기\n",
    "header = next(data) #필요하지 않은 데이터는 버리기\n",
    "next(data)\n",
    "\n",
    "#남녀 각각 변수 만들어주기\n",
    "sum_male= []\n",
    "male = []\n",
    "m_result = []\n",
    "sum_female = []\n",
    "female = []\n",
    "f_result = []\n",
    "name = []\n",
    "\n",
    "\n",
    "# for문으로 데이터 읽기\n",
    "for row in data :\n",
    "    names = row[0].split(' ')\n",
    "    name.append(names[0])\n",
    "    # 남녀의 데이터를 SUM으로 증가한 데이터를 만들어준 변수을 두개로 나눔  \n",
    "    #68행부터 104행까지 (남자 65~100세)\n",
    "    for i in row[68:104] :\n",
    "        sum_male.append(int(i))\n",
    "    male.append(sum(sum_male))\n",
    "    m_result.append(sum(sum_male))\n",
    "    \n",
    "    #(여자 65~100세)\n",
    "    for j in row[171:202] :\n",
    "        sum_female.append(int(j))\n",
    "    female.append(sum(sum_female))\n",
    "    f_result.append(sum(sum_female))\n",
    "\n",
    "\n",
    "\n",
    "for m in range(0,17):\n",
    "    # 변수 두개로 나눈 것은 첫번째 리스트 데이터와 나누지 않기에 첫번째을 제외한 나머지를 서로 빼준다\n",
    "    if male[0] != male[m] and m_result[0] != m_result[m] :\n",
    "        male[m] -= m_result[m-1]\n",
    "    if female[0] != female[m] and f_result[0] != f_result[m] :\n",
    "        female[m] -= f_result[m-1]\n",
    "\n",
    "#아래부터 그래프 설정\n",
    "plt.figure(figsize=(17,7))\n",
    "plt.style.use('default')\n",
    "plt.rc('font', family='Malgun Gothic')\n",
    "plt.rcParams['axes.unicode_minus'] = False\n",
    "plt.title('전국 65세 이상 남녀 인구수')\n",
    "plt.barh(name,female,color='green', label='여자')\n",
    "plt.barh(name,male,color='red',label='남자')\n",
    "plt.legend()\n",
    "plt.show()"
   ]
  }
 ],
 "metadata": {
  "kernelspec": {
   "display_name": "Python 3 (ipykernel)",
   "language": "python",
   "name": "python3"
  },
  "language_info": {
   "codemirror_mode": {
    "name": "ipython",
    "version": 3
   },
   "file_extension": ".py",
   "mimetype": "text/x-python",
   "name": "python",
   "nbconvert_exporter": "python",
   "pygments_lexer": "ipython3",
   "version": "3.9.12"
  }
 },
 "nbformat": 4,
 "nbformat_minor": 5
}
