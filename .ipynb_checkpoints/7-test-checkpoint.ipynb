{
 "cells": [
  {
   "cell_type": "code",
   "execution_count": 12,
   "id": "d7c7e84b-5f82-4584-af6a-94957447afa8",
   "metadata": {},
   "outputs": [
    {
     "ename": "TypeError",
     "evalue": "Cannot interpret '0' as a data type",
     "output_type": "error",
     "traceback": [
      "\u001b[1;31m---------------------------------------------------------------------------\u001b[0m",
      "\u001b[1;31mTypeError\u001b[0m                                 Traceback (most recent call last)",
      "Input \u001b[1;32mIn [12]\u001b[0m, in \u001b[0;36m<cell line: 19>\u001b[1;34m()\u001b[0m\n\u001b[0;32m     19\u001b[0m \u001b[38;5;28;01mfor\u001b[39;00m row \u001b[38;5;129;01min\u001b[39;00m data :\n\u001b[0;32m     20\u001b[0m     \u001b[38;5;28;01mif\u001b[39;00m name \u001b[38;5;129;01min\u001b[39;00m row[\u001b[38;5;241m0\u001b[39m] :\n\u001b[1;32m---> 21\u001b[0m         home \u001b[38;5;241m=\u001b[39m \u001b[43mnp\u001b[49m\u001b[38;5;241;43m.\u001b[39;49m\u001b[43marray\u001b[49m\u001b[43m(\u001b[49m\u001b[43mrow\u001b[49m\u001b[43m[\u001b[49m\u001b[38;5;241;43m3\u001b[39;49m\u001b[43m:\u001b[49m\u001b[43m]\u001b[49m\u001b[43m,\u001b[49m\u001b[43m \u001b[49m\u001b[43mdtype\u001b[49m\u001b[38;5;241;43m=\u001b[39;49m\u001b[38;5;28;43mint\u001b[39;49m\u001b[43m(\u001b[49m\u001b[43m)\u001b[49m\u001b[43m)\u001b[49m\u001b[38;5;241m/\u001b[39m\u001b[38;5;28mint\u001b[39m(row[\u001b[38;5;241m2\u001b[39m])\n\u001b[0;32m     23\u001b[0m \u001b[38;5;66;03m# 양정동과 결과가 나올 비슷한 지역에 결과값을 가져온다.\u001b[39;00m\n\u001b[0;32m     24\u001b[0m \u001b[38;5;28;01mfor\u001b[39;00m row \u001b[38;5;129;01min\u001b[39;00m data :\n",
      "\u001b[1;31mTypeError\u001b[0m: Cannot interpret '0' as a data type"
     ]
    }
   ],
   "source": [
    "import numpy as np\n",
    "import csv\n",
    "import matplotlib.pyplot as plt\n",
    "\n",
    "\n",
    "# 데이터를 읽어온다.\n",
    "f = open('allage.csv', encoding='utf8')\n",
    "data = csv.reader(f)\n",
    "next(data)\n",
    "data = list(data)\n",
    "\n",
    "# 양정동과 결과가 나올 동을 변수선언을 해준다.\n",
    "name = '양정동'\n",
    "mn = 1\n",
    "result_name = ''\n",
    "result = 0\n",
    "\n",
    "# 양정동과 결과가나올 동의 구조를 저장해준다.\n",
    "for row in data :\n",
    "    if name in row[0] :\n",
    "        home = np.array(row[3:], dtype=int(0))/int(row[2])\n",
    "    \n",
    "# 양정동과 결과가 나올 비슷한 지역에 결과값을 가져온다.\n",
    "for row in data :\n",
    "    away = np.array(row[3:], dtype=int(0))/int(row[2])\n",
    "    s = np.sum((home-away)**2)\n",
    "    if s < mn and name not in row[0] :\n",
    "        mn = s\n",
    "        result_name = row[0]\n",
    "        result = away\n",
    "\n",
    "# 아래부터 그래프 설정\n",
    "plt.style.use('ggplot')\n",
    "plt.figure(figsize=(10,5), dpi=300)\n",
    "plt.rc('font', family='Malgun Gothic')\n",
    "plt.title(name+' 지역과 가장 비슷한 인구 구조를 가진 지역')\n",
    "plt.plot(home, label=name)\n",
    "plt.plot(result, label=result_name)\n",
    "plt.legend()\n",
    "plt.show()"
   ]
  },
  {
   "cell_type": "code",
   "execution_count": null,
   "id": "a4270a57-f358-4c69-b5f5-18a90279b371",
   "metadata": {},
   "outputs": [],
   "source": []
  }
 ],
 "metadata": {
  "kernelspec": {
   "display_name": "Python 3 (ipykernel)",
   "language": "python",
   "name": "python3"
  },
  "language_info": {
   "codemirror_mode": {
    "name": "ipython",
    "version": 3
   },
   "file_extension": ".py",
   "mimetype": "text/x-python",
   "name": "python",
   "nbconvert_exporter": "python",
   "pygments_lexer": "ipython3",
   "version": "3.9.12"
  }
 },
 "nbformat": 4,
 "nbformat_minor": 5
}
